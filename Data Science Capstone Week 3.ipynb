{
    "nbformat_minor": 1, 
    "cells": [
        {
            "execution_count": 8, 
            "cell_type": "code", 
            "metadata": {}, 
            "outputs": [], 
            "source": "import numpy as np\nimport pandas as pd\nfrom bs4 import BeautifulSoup"
        }, 
        {
            "execution_count": 9, 
            "cell_type": "code", 
            "metadata": {}, 
            "outputs": [], 
            "source": "html_doc = \"\"\"\n<html><head><title>The Dormouse's story</title></head>\n<body>\n<p class=\"title\"><b>The Dormouse's story</b></p>\n\n<p class=\"story\">Once upon a time there were three little sisters; and their names were\n<a href=\"http://example.com/elsie\" class=\"sister\" id=\"link1\">Elsie</a>,\n<a href=\"http://example.com/lacie\" class=\"sister\" id=\"link2\">Lacie</a> and\n<a href=\"http://example.com/tillie\" class=\"sister\" id=\"link3\">Tillie</a>;\nand they lived at the bottom of a well.</p>\n\n<p class=\"story\">...</p>\n\"\"\""
        }, 
        {
            "execution_count": 10, 
            "cell_type": "code", 
            "metadata": {}, 
            "outputs": [
                {
                    "output_type": "stream", 
                    "name": "stdout", 
                    "text": "<html>\n <head>\n  <title>\n   The Dormouse's story\n  </title>\n </head>\n <body>\n  <p class=\"title\">\n   <b>\n    The Dormouse's story\n   </b>\n  </p>\n  <p class=\"story\">\n   Once upon a time there were three little sisters; and their names were\n   <a class=\"sister\" href=\"http://example.com/elsie\" id=\"link1\">\n    Elsie\n   </a>\n   ,\n   <a class=\"sister\" href=\"http://example.com/lacie\" id=\"link2\">\n    Lacie\n   </a>\n   and\n   <a class=\"sister\" href=\"http://example.com/tillie\" id=\"link3\">\n    Tillie\n   </a>\n   ;\nand they lived at the bottom of a well.\n  </p>\n  <p class=\"story\">\n   ...\n  </p>\n </body>\n</html>\n"
                }
            ], 
            "source": "from bs4 import BeautifulSoup\nsoup = BeautifulSoup(html_doc, 'html.parser')\n\nprint(soup.prettify())"
        }, 
        {
            "execution_count": 11, 
            "cell_type": "code", 
            "metadata": {}, 
            "outputs": [
                {
                    "execution_count": 11, 
                    "metadata": {}, 
                    "data": {
                        "text/plain": "<title>The Dormouse's story</title>"
                    }, 
                    "output_type": "execute_result"
                }
            ], 
            "source": "soup.title"
        }, 
        {
            "execution_count": 12, 
            "cell_type": "code", 
            "metadata": {}, 
            "outputs": [
                {
                    "output_type": "stream", 
                    "name": "stdout", 
                    "text": "<title>The Dormouse's story</title>\n"
                }
            ], 
            "source": "print(soup.title)"
        }, 
        {
            "execution_count": null, 
            "cell_type": "code", 
            "metadata": {}, 
            "outputs": [], 
            "source": ""
        }
    ], 
    "metadata": {
        "kernelspec": {
            "display_name": "Python 3.6", 
            "name": "python3", 
            "language": "python"
        }, 
        "language_info": {
            "mimetype": "text/x-python", 
            "nbconvert_exporter": "python", 
            "version": "3.6.8", 
            "name": "python", 
            "file_extension": ".py", 
            "pygments_lexer": "ipython3", 
            "codemirror_mode": {
                "version": 3, 
                "name": "ipython"
            }
        }
    }, 
    "nbformat": 4
}